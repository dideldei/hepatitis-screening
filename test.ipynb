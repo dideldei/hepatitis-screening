{
 "cells": [
  {
   "cell_type": "code",
   "execution_count": 1,
   "metadata": {},
   "outputs": [],
   "source": [
    "import pandas as pd\n",
    "import scipy.stats as st\n"
   ]
  },
  {
   "cell_type": "code",
   "execution_count": 2,
   "metadata": {},
   "outputs": [
    {
     "data": {
      "text/html": [
       "<div>\n",
       "<style scoped>\n",
       "    .dataframe tbody tr th:only-of-type {\n",
       "        vertical-align: middle;\n",
       "    }\n",
       "\n",
       "    .dataframe tbody tr th {\n",
       "        vertical-align: top;\n",
       "    }\n",
       "\n",
       "    .dataframe thead th {\n",
       "        text-align: right;\n",
       "    }\n",
       "</style>\n",
       "<table border=\"1\" class=\"dataframe\">\n",
       "  <thead>\n",
       "    <tr style=\"text-align: right;\">\n",
       "      <th></th>\n",
       "      <th>Date</th>\n",
       "      <th>Personen</th>\n",
       "      <th>Positive</th>\n",
       "      <th>Anmerkung</th>\n",
       "    </tr>\n",
       "  </thead>\n",
       "  <tbody>\n",
       "    <tr>\n",
       "      <th>0</th>\n",
       "      <td>16.10.2021 14:53:01</td>\n",
       "      <td>3</td>\n",
       "      <td>0</td>\n",
       "      <td>bisher noch kaum gemacht (s.o.)</td>\n",
       "    </tr>\n",
       "    <tr>\n",
       "      <th>1</th>\n",
       "      <td>16.10.2021 14:53:59</td>\n",
       "      <td>0</td>\n",
       "      <td>0</td>\n",
       "      <td>Das Screening ist für mich zu kompliziert. Mei...</td>\n",
       "    </tr>\n",
       "    <tr>\n",
       "      <th>2</th>\n",
       "      <td>16.10.2021 14:59:57</td>\n",
       "      <td>1</td>\n",
       "      <td>0</td>\n",
       "      <td>NaN</td>\n",
       "    </tr>\n",
       "    <tr>\n",
       "      <th>3</th>\n",
       "      <td>16.10.2021 15:00:38</td>\n",
       "      <td>2</td>\n",
       "      <td>0</td>\n",
       "      <td>NaN</td>\n",
       "    </tr>\n",
       "    <tr>\n",
       "      <th>4</th>\n",
       "      <td>16.10.2021 15:02:08</td>\n",
       "      <td>1</td>\n",
       "      <td>0</td>\n",
       "      <td>NaN</td>\n",
       "    </tr>\n",
       "    <tr>\n",
       "      <th>...</th>\n",
       "      <td>...</td>\n",
       "      <td>...</td>\n",
       "      <td>...</td>\n",
       "      <td>...</td>\n",
       "    </tr>\n",
       "    <tr>\n",
       "      <th>72</th>\n",
       "      <td>17.10.2021 22:16:18</td>\n",
       "      <td>0</td>\n",
       "      <td>0</td>\n",
       "      <td>NaN</td>\n",
       "    </tr>\n",
       "    <tr>\n",
       "      <th>73</th>\n",
       "      <td>17.10.2021 22:27:09</td>\n",
       "      <td>0</td>\n",
       "      <td>0</td>\n",
       "      <td>NaN</td>\n",
       "    </tr>\n",
       "    <tr>\n",
       "      <th>74</th>\n",
       "      <td>17.10.2021 22:50:27</td>\n",
       "      <td>5</td>\n",
       "      <td>0</td>\n",
       "      <td>NaN</td>\n",
       "    </tr>\n",
       "    <tr>\n",
       "      <th>75</th>\n",
       "      <td>17.10.2021 23:20:24</td>\n",
       "      <td>3</td>\n",
       "      <td>0</td>\n",
       "      <td>NaN</td>\n",
       "    </tr>\n",
       "    <tr>\n",
       "      <th>76</th>\n",
       "      <td>18.10.2021 06:01:25</td>\n",
       "      <td>10</td>\n",
       "      <td>0</td>\n",
       "      <td>NaN</td>\n",
       "    </tr>\n",
       "  </tbody>\n",
       "</table>\n",
       "<p>77 rows × 4 columns</p>\n",
       "</div>"
      ],
      "text/plain": [
       "                   Date  Personen  Positive  \\\n",
       "0   16.10.2021 14:53:01         3         0   \n",
       "1   16.10.2021 14:53:59         0         0   \n",
       "2   16.10.2021 14:59:57         1         0   \n",
       "3   16.10.2021 15:00:38         2         0   \n",
       "4   16.10.2021 15:02:08         1         0   \n",
       "..                  ...       ...       ...   \n",
       "72  17.10.2021 22:16:18         0         0   \n",
       "73  17.10.2021 22:27:09         0         0   \n",
       "74  17.10.2021 22:50:27         5         0   \n",
       "75  17.10.2021 23:20:24         3         0   \n",
       "76  18.10.2021 06:01:25        10         0   \n",
       "\n",
       "                                            Anmerkung  \n",
       "0                     bisher noch kaum gemacht (s.o.)  \n",
       "1   Das Screening ist für mich zu kompliziert. Mei...  \n",
       "2                                                 NaN  \n",
       "3                                                 NaN  \n",
       "4                                                 NaN  \n",
       "..                                                ...  \n",
       "72                                                NaN  \n",
       "73                                                NaN  \n",
       "74                                                NaN  \n",
       "75                                                NaN  \n",
       "76                                                NaN  \n",
       "\n",
       "[77 rows x 4 columns]"
      ]
     },
     "execution_count": 2,
     "metadata": {},
     "output_type": "execute_result"
    }
   ],
   "source": [
    "#Lese die Daten aus dem Google Spreadsheet\n",
    "df = pd.read_csv(\"https://docs.google.com/spreadsheets/d/e/2PACX-1vRmaquJTwdA-ew-ufIcJDbbWaBn1P6eMWO5XOqZgAihzhY0zSfIEvfZDYuuQuin4o2_Zy7KMw5YHzDw/pub?gid=1264034226&single=true&output=csv\", header=0, names=[\"Date\", \"Personen\", \"Positive\", \"Anmerkung\"])\n",
    "df"
   ]
  },
  {
   "cell_type": "code",
   "execution_count": 3,
   "metadata": {},
   "outputs": [],
   "source": [
    "#Daten bereinigen\n",
    "#Hepatitis E-Fall abziehen\n",
    "df.at[5,['Positive']]=0"
   ]
  },
  {
   "cell_type": "code",
   "execution_count": 4,
   "metadata": {},
   "outputs": [
    {
     "data": {
      "text/plain": [
       "352"
      ]
     },
     "execution_count": 4,
     "metadata": {},
     "output_type": "execute_result"
    }
   ],
   "source": [
    "#Errechne die Summe der Personen\n",
    "anzahl = df[\"Personen\"].sum()\n",
    "anzahl"
   ]
  },
  {
   "cell_type": "code",
   "execution_count": 5,
   "metadata": {},
   "outputs": [
    {
     "data": {
      "text/plain": [
       "3"
      ]
     },
     "execution_count": 5,
     "metadata": {},
     "output_type": "execute_result"
    }
   ],
   "source": [
    "#Zähle die Positiven\n",
    "positive = df[\"Positive\"].sum()\n",
    "positive"
   ]
  },
  {
   "cell_type": "code",
   "execution_count": 6,
   "metadata": {},
   "outputs": [
    {
     "data": {
      "text/plain": [
       "0.8522727272727272"
      ]
     },
     "execution_count": 6,
     "metadata": {},
     "output_type": "execute_result"
    }
   ],
   "source": [
    "#Errechne die Positivenquote in Prozent\n",
    "quote = positive / anzahl *100\n",
    "quote"
   ]
  },
  {
   "cell_type": "code",
   "execution_count": 7,
   "metadata": {},
   "outputs": [
    {
     "name": "stdout",
     "output_type": "stream",
     "text": [
      "77\n"
     ]
    },
    {
     "data": {
      "text/plain": [
       "36"
      ]
     },
     "execution_count": 7,
     "metadata": {},
     "output_type": "execute_result"
    }
   ],
   "source": [
    "#Anzahl der Praxen ohne bisher gescreent zu haben:\n",
    "ohne_screening = df[\"Personen\"].value_counts()\n",
    "anz_teilnehmende = len(df.index)\n",
    "print(anz_teilnehmende)\n",
    "ohne_screening[0]"
   ]
  },
  {
   "cell_type": "code",
   "execution_count": 8,
   "metadata": {},
   "outputs": [
    {
     "name": "stdout",
     "output_type": "stream",
     "text": [
      "46.75324675324675\n"
     ]
    }
   ],
   "source": [
    "#Anteil der Teilnehmenden ohne Screening bisher in Prozent\n",
    "anteil_nichtscreener = ohne_screening[0]/anz_teilnehmende*100\n",
    "print(anteil_nichtscreener)"
   ]
  },
  {
   "cell_type": "code",
   "execution_count": 9,
   "metadata": {},
   "outputs": [
    {
     "data": {
      "text/html": [
       "<div>\n",
       "<style scoped>\n",
       "    .dataframe tbody tr th:only-of-type {\n",
       "        vertical-align: middle;\n",
       "    }\n",
       "\n",
       "    .dataframe tbody tr th {\n",
       "        vertical-align: top;\n",
       "    }\n",
       "\n",
       "    .dataframe thead th {\n",
       "        text-align: right;\n",
       "    }\n",
       "</style>\n",
       "<table border=\"1\" class=\"dataframe\">\n",
       "  <thead>\n",
       "    <tr style=\"text-align: right;\">\n",
       "      <th></th>\n",
       "      <th>Date</th>\n",
       "      <th>Personen</th>\n",
       "      <th>Positive</th>\n",
       "      <th>Anmerkung</th>\n",
       "    </tr>\n",
       "  </thead>\n",
       "  <tbody>\n",
       "    <tr>\n",
       "      <th>0</th>\n",
       "      <td>16.10.2021 14:53:01</td>\n",
       "      <td>3</td>\n",
       "      <td>0</td>\n",
       "      <td>bisher noch kaum gemacht (s.o.)</td>\n",
       "    </tr>\n",
       "    <tr>\n",
       "      <th>2</th>\n",
       "      <td>16.10.2021 14:59:57</td>\n",
       "      <td>1</td>\n",
       "      <td>0</td>\n",
       "      <td>NaN</td>\n",
       "    </tr>\n",
       "    <tr>\n",
       "      <th>3</th>\n",
       "      <td>16.10.2021 15:00:38</td>\n",
       "      <td>2</td>\n",
       "      <td>0</td>\n",
       "      <td>NaN</td>\n",
       "    </tr>\n",
       "    <tr>\n",
       "      <th>4</th>\n",
       "      <td>16.10.2021 15:02:08</td>\n",
       "      <td>1</td>\n",
       "      <td>0</td>\n",
       "      <td>NaN</td>\n",
       "    </tr>\n",
       "    <tr>\n",
       "      <th>5</th>\n",
       "      <td>16.10.2021 15:19:36</td>\n",
       "      <td>10</td>\n",
       "      <td>0</td>\n",
       "      <td>Hepatitis E</td>\n",
       "    </tr>\n",
       "  </tbody>\n",
       "</table>\n",
       "</div>"
      ],
      "text/plain": [
       "                  Date  Personen  Positive                        Anmerkung\n",
       "0  16.10.2021 14:53:01         3         0  bisher noch kaum gemacht (s.o.)\n",
       "2  16.10.2021 14:59:57         1         0                              NaN\n",
       "3  16.10.2021 15:00:38         2         0                              NaN\n",
       "4  16.10.2021 15:02:08         1         0                              NaN\n",
       "5  16.10.2021 15:19:36        10         0                      Hepatitis E"
      ]
     },
     "execution_count": 9,
     "metadata": {},
     "output_type": "execute_result"
    }
   ],
   "source": [
    "#Erzeuge neuen Datenframe mit Teilnehmenden über 0 Personen\n",
    "\n",
    "df_teilnehmende = df.loc[df[\"Personen\"] > 0]\n",
    "df_teilnehmende.head()\n"
   ]
  },
  {
   "cell_type": "code",
   "execution_count": 10,
   "metadata": {},
   "outputs": [
    {
     "name": "stderr",
     "output_type": "stream",
     "text": [
      "c:\\Users\\slodd\\OneDrive\\Dokumente\\prj\\trader\\.venv\\lib\\site-packages\\pandas\\core\\frame.py:4906: SettingWithCopyWarning: \n",
      "A value is trying to be set on a copy of a slice from a DataFrame\n",
      "\n",
      "See the caveats in the documentation: https://pandas.pydata.org/pandas-docs/stable/user_guide/indexing.html#returning-a-view-versus-a-copy\n",
      "  return super().drop(\n"
     ]
    },
    {
     "data": {
      "text/html": [
       "<div>\n",
       "<style scoped>\n",
       "    .dataframe tbody tr th:only-of-type {\n",
       "        vertical-align: middle;\n",
       "    }\n",
       "\n",
       "    .dataframe tbody tr th {\n",
       "        vertical-align: top;\n",
       "    }\n",
       "\n",
       "    .dataframe thead th {\n",
       "        text-align: right;\n",
       "    }\n",
       "</style>\n",
       "<table border=\"1\" class=\"dataframe\">\n",
       "  <thead>\n",
       "    <tr style=\"text-align: right;\">\n",
       "      <th></th>\n",
       "      <th>Date</th>\n",
       "      <th>Personen</th>\n",
       "      <th>Positive</th>\n",
       "    </tr>\n",
       "  </thead>\n",
       "  <tbody>\n",
       "    <tr>\n",
       "      <th>0</th>\n",
       "      <td>16.10.2021 14:53:01</td>\n",
       "      <td>3</td>\n",
       "      <td>0</td>\n",
       "    </tr>\n",
       "    <tr>\n",
       "      <th>2</th>\n",
       "      <td>16.10.2021 14:59:57</td>\n",
       "      <td>1</td>\n",
       "      <td>0</td>\n",
       "    </tr>\n",
       "    <tr>\n",
       "      <th>3</th>\n",
       "      <td>16.10.2021 15:00:38</td>\n",
       "      <td>2</td>\n",
       "      <td>0</td>\n",
       "    </tr>\n",
       "    <tr>\n",
       "      <th>4</th>\n",
       "      <td>16.10.2021 15:02:08</td>\n",
       "      <td>1</td>\n",
       "      <td>0</td>\n",
       "    </tr>\n",
       "    <tr>\n",
       "      <th>5</th>\n",
       "      <td>16.10.2021 15:19:36</td>\n",
       "      <td>10</td>\n",
       "      <td>0</td>\n",
       "    </tr>\n",
       "  </tbody>\n",
       "</table>\n",
       "</div>"
      ],
      "text/plain": [
       "                  Date  Personen  Positive\n",
       "0  16.10.2021 14:53:01         3         0\n",
       "2  16.10.2021 14:59:57         1         0\n",
       "3  16.10.2021 15:00:38         2         0\n",
       "4  16.10.2021 15:02:08         1         0\n",
       "5  16.10.2021 15:19:36        10         0"
      ]
     },
     "execution_count": 10,
     "metadata": {},
     "output_type": "execute_result"
    }
   ],
   "source": [
    "# Spalte Anmerkung löschen\n",
    "df_teilnehmende.drop(columns=[\"Anmerkung\"],axis=1,inplace=True)\n",
    "df_teilnehmende.head()\n"
   ]
  },
  {
   "cell_type": "code",
   "execution_count": 11,
   "metadata": {},
   "outputs": [
    {
     "data": {
      "text/html": [
       "<div>\n",
       "<style scoped>\n",
       "    .dataframe tbody tr th:only-of-type {\n",
       "        vertical-align: middle;\n",
       "    }\n",
       "\n",
       "    .dataframe tbody tr th {\n",
       "        vertical-align: top;\n",
       "    }\n",
       "\n",
       "    .dataframe thead th {\n",
       "        text-align: right;\n",
       "    }\n",
       "</style>\n",
       "<table border=\"1\" class=\"dataframe\">\n",
       "  <thead>\n",
       "    <tr style=\"text-align: right;\">\n",
       "      <th></th>\n",
       "      <th>Date</th>\n",
       "      <th>Personen</th>\n",
       "      <th>Positive</th>\n",
       "      <th>Rate</th>\n",
       "    </tr>\n",
       "  </thead>\n",
       "  <tbody>\n",
       "    <tr>\n",
       "      <th>0</th>\n",
       "      <td>16.10.2021 14:53:01</td>\n",
       "      <td>3</td>\n",
       "      <td>0</td>\n",
       "      <td>0.0</td>\n",
       "    </tr>\n",
       "    <tr>\n",
       "      <th>2</th>\n",
       "      <td>16.10.2021 14:59:57</td>\n",
       "      <td>1</td>\n",
       "      <td>0</td>\n",
       "      <td>0.0</td>\n",
       "    </tr>\n",
       "    <tr>\n",
       "      <th>3</th>\n",
       "      <td>16.10.2021 15:00:38</td>\n",
       "      <td>2</td>\n",
       "      <td>0</td>\n",
       "      <td>0.0</td>\n",
       "    </tr>\n",
       "    <tr>\n",
       "      <th>4</th>\n",
       "      <td>16.10.2021 15:02:08</td>\n",
       "      <td>1</td>\n",
       "      <td>0</td>\n",
       "      <td>0.0</td>\n",
       "    </tr>\n",
       "    <tr>\n",
       "      <th>5</th>\n",
       "      <td>16.10.2021 15:19:36</td>\n",
       "      <td>10</td>\n",
       "      <td>0</td>\n",
       "      <td>0.0</td>\n",
       "    </tr>\n",
       "  </tbody>\n",
       "</table>\n",
       "</div>"
      ],
      "text/plain": [
       "                  Date  Personen  Positive  Rate\n",
       "0  16.10.2021 14:53:01         3         0   0.0\n",
       "2  16.10.2021 14:59:57         1         0   0.0\n",
       "3  16.10.2021 15:00:38         2         0   0.0\n",
       "4  16.10.2021 15:02:08         1         0   0.0\n",
       "5  16.10.2021 15:19:36        10         0   0.0"
      ]
     },
     "execution_count": 11,
     "metadata": {},
     "output_type": "execute_result"
    }
   ],
   "source": [
    "#Positivenrate per Praxis berechnen (erfordlich für CI)\n",
    "#df_teilnehmende[\"Rate\"] = df_teilnehmende['Positive']/df_teilnehmende['Personen']\n",
    "#df_teilnehmende\n",
    "df_teilnehmende.insert(loc=len(df_teilnehmende.columns), column='Rate', value=df_teilnehmende.Positive/df_teilnehmende.Personen)\n",
    "df_teilnehmende.tail()\n"
   ]
  },
  {
   "cell_type": "code",
   "execution_count": 12,
   "metadata": {},
   "outputs": [
    {
     "name": "stdout",
     "output_type": "stream",
     "text": [
      "Konfidenzintervall: -0.31 bis 1.76%\n"
     ]
    }
   ],
   "source": [
    "#Konfidenzintervall der Positivenrate berechnen\n",
    "#st.norm.interval(alpha=0.95, loc=df_teilnehmende['Rate'].mean(), scale=st.sem(df_teilnehmende['Rate']))\n",
    "ci = st.t.interval(alpha=0.95, df=len(df_teilnehmende['Rate'])-1, loc=df_teilnehmende['Rate'].mean(), scale=st.sem(df_teilnehmende['Rate'])) \n",
    "print(f\"Konfidenzintervall: {ci[0]*100:.2f} bis {ci[1]*100:.2f}%\")"
   ]
  }
 ],
 "metadata": {
  "interpreter": {
   "hash": "9b09e8d0e8d3742e0572f247ed30383eee793f3ebcb2f4903f5badd654be26af"
  },
  "kernelspec": {
   "display_name": "Python 3.9.7 64-bit ('.venv': venv)",
   "name": "python3"
  },
  "language_info": {
   "codemirror_mode": {
    "name": "ipython",
    "version": 3
   },
   "file_extension": ".py",
   "mimetype": "text/x-python",
   "name": "python",
   "nbconvert_exporter": "python",
   "pygments_lexer": "ipython3",
   "version": "3.9.7"
  },
  "orig_nbformat": 4
 },
 "nbformat": 4,
 "nbformat_minor": 2
}
